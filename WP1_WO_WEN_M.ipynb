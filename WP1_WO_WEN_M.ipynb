{
 "cells": [
  {
   "cell_type": "markdown",
   "metadata": {},
   "source": [
    "# Work Out - Introducción a Python"
   ]
  },
  {
   "cell_type": "markdown",
   "metadata": {},
   "source": [
    "## Crear un programa que calcule la cuota de una hipoteca\n",
    "\n",
    "Las cuotas hipotecarias se calculan utilizando la fórmula del interés frances. El objetivo del ejercicio es crear un programa que solicite al usuario los datos de su hipoteca (cantidad, intereses, y plazo en años) y le devuelva la cuota mensual a pagar\n",
    "\n",
    "La formula del interés frances es la siguiente:\n",
    "\\begin{align*}\n",
    "C=V \\frac{(1+i)^n i}{(1+i)^n -i}\n",
    "\\end{align*}\n",
    "\n"
   ]
  },
  {
   "cell_type": "code",
   "execution_count": 1,
   "metadata": {},
   "outputs": [],
   "source": [
    "\n",
    "# tu codigo va aquí\n",
    "\n"
   ]
  },
  {
   "cell_type": "markdown",
   "metadata": {},
   "source": [
    "# Crear un programa que calcule el plan de amortización\n",
    "\n",
    "El objetivo del ejercicio es crear un programa que solicite al usuario los datos de su hipoteca (cantidad, intereses, y plazo en años) y le devuelva el plan de amortización.\n"
   ]
  },
  {
   "cell_type": "code",
   "execution_count": 2,
   "metadata": {},
   "outputs": [],
   "source": [
    "\n",
    "# tu codigo va aquí\n"
   ]
  },
  {
   "cell_type": "markdown",
   "metadata": {},
   "source": [
    "# Crear un programa que resuelva una ecuacción de segundo grado\n",
    "\n",
    "El objetivo del programa es resolver la ecuacción de sgundo grado \n",
    "\n",
    "\\begin{align*}\n",
    "ax^2+bx+c = 0\n",
    "\\end{align*}\n",
    "\n",
    "Pasando como parámetros los coeficientes de la ecuacción. La resolución de la ecuacción es la siguiente:\n",
    "\n",
    "\\begin{align*}\n",
    "x=\\frac{-b \\pm \\sqrt{b^2-4ac}}{2a}\n",
    "\\end{align*}\n",
    "\n"
   ]
  },
  {
   "cell_type": "code",
   "execution_count": null,
   "metadata": {},
   "outputs": [],
   "source": [
    "\n",
    "\n",
    "# tu codigo va aquí"
   ]
  }
 ],
 "metadata": {
  "kernelspec": {
   "display_name": "Python 3",
   "language": "python",
   "name": "python3"
  },
  "language_info": {
   "codemirror_mode": {
    "name": "ipython",
    "version": 3
   },
   "file_extension": ".py",
   "mimetype": "text/x-python",
   "name": "python",
   "nbconvert_exporter": "python",
   "pygments_lexer": "ipython3",
   "version": "3.6.9"
  }
 },
 "nbformat": 4,
 "nbformat_minor": 4
}
