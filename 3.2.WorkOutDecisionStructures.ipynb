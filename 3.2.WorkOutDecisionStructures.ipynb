{
 "cells": [
  {
   "cell_type": "markdown",
   "metadata": {},
   "source": [
    "\n",
    "# WORKOUT - Decision Structures\n",
    "---\n",
    "#### True and False\n",
    "- Write a program that consists of at least ten lines, each of which has a logical statement on it. The output of your program should be 5 **True**s and 5 **False**s.\n",
    "- Note: You will probably need to write `print(5 > 3)`, not just `5 > 3`."
   ]
  },
  {
   "cell_type": "markdown",
   "metadata": {},
   "source": [
    "<a id=\"Exercises-elif\"></a>\n",
    "Exercises\n",
    "---\n",
    "#### Three is a Crowd\n",
    "- Make a list of names that includes at least four people.\n",
    "- Write an if test that prints a message about the room being crowded, if there are more than three people in your list.\n",
    "- Modify your list so that there are only two people in it. Use one of the methods for removing people from the list, don't just redefine the list.\n",
    "- Run your if test again. There should be no output this time, because there are less than three people in the list.\n",
    "- **Bonus:** Store your if test in a function called something like `crowd_test`.\n",
    "\n",
    "#### Three is a Crowd - Part 2\n",
    "- Save your program from *Three is a Crowd* under a new name.\n",
    "- Add an `else` statement to your if tests. If the `else` statement is run, have it print a message that the room is not very crowded.\n",
    "\n",
    "#### Six is a Mob\n",
    "- Save your program from *Three is a Crowd - Part 2* under a new name.\n",
    "- Add some names to your list, so that there are at least six people in the list.\n",
    "- Modify your tests so that\n",
    "    - If there are more than 5 people, a message is printed about there being a mob in the room.\n",
    "    - If there are 3-5 people, a message is printed about the room being crowded.\n",
    "    - If there are 1 or 2 people, a message is printed about the room not being crowded.\n",
    "    - If there are no people in the room, a message is printed abou the room being empty."
   ]
  },
  {
   "cell_type": "markdown",
   "metadata": {},
   "source": [
    "<a name=\"Exercises-infinite\"></a>\n",
    "Exercises\n",
    "---\n",
    "#### Marveling at Infinity\n",
    "- Use one of the examples of a failed while loop to create an infinite loop.\n",
    "- Interrupt your output.\n",
    "- Marvel at the fact that if you had not interrupted your output, your computer would have kept doing what you told it to until it ran out of power, or memory, or until the universe went cold around it."
   ]
  },
  {
   "cell_type": "markdown",
   "metadata": {},
   "source": [
    "Overall Challenges\n",
    "===\n",
    "#### Gaussian Addition\n",
    "This challenge is inspired by a story about the mathematician Carl Frederich Gauss. [As the story goes](http://mathforum.org/library/drmath/view/57919.html), when young Gauss was in grade school his teacher got mad at his class one day.\n",
    "\n",
    "\"I'll keep the lot of you busy for a while\", the teacher said sternly to the group. \"You are to add the numbers from 1 to 100, and you are not to say a word until you are done.\"\n",
    "\n",
    "The teacher expected a good period of quiet time, but a moment later our mathematician-to-be raised his hand with the answer. \"It's 5050!\" Gauss had realized that if you list all the numbers from 1 to 100, you can always match the first and last numbers in the list and get a common answer:\n",
    "\n",
    "    1, 2, 3, ..., 98, 99, 100\n",
    "    1 + 100 = 101\n",
    "    2 + 99 = 101\n",
    "    3 + 98 = 101\n",
    "\n",
    "Gauss realized there were exactly 50 pairs of numbers in the range 1 to 100, so he did a quick calculation: 50 * 101 = 5050.\n",
    "\n",
    "- Write a program that passes a list of numbers to a function.\n",
    "    - The function should use a while loop to keep popping the first and last numbers from the list and calculate the sum of those two numbers.\n",
    "    - The function should print out the current numbers that are being added, and print their partial sum.\n",
    "    - The function should keep track of how many partial sums there are.\n",
    "    - The function should then print out how many partial sums there were.\n",
    "    - The function should perform Gauss' multiplication, and report the final answer.\n",
    "- Prove that your function works, by passing in the range 1-100, and verifying that you get 5050.\n",
    "    - `gauss_addition(list(range(1,101)))`\n",
    "- Your function should work for any set of consecutive numbers, as long as that set has an even length.\n",
    "    - Bonus: Modify your function so that it works for any set of consecutive numbers, whether that set has an even or odd length."
   ]
  },
  {
   "cell_type": "markdown",
   "metadata": {},
   "source": [
    "Overall Challenges\n",
    "===\n",
    "#### Alien Points\n",
    "- Make a list of ten aliens, each of which is one color: 'red', 'green', or 'blue'.\n",
    "    - You can shorten this to 'r', 'g', and 'b' if you want, but if you choose this option you have to include a comment explaining what r, g, and b stand for.\n",
    "- Red aliens are worth 5 points, green aliens are worth 10 points, and blue aliens are worth 20 points.\n",
    "- Use a for loop to determine the number of points a player would earn for destroying all of the aliens in your list.\n",
    "- [hint](#hint_alien_points)"
   ]
  },
  {
   "cell_type": "markdown",
   "metadata": {},
   "source": [
    "<a id=\"Exercises-while\"></a>\n",
    "Exercises\n",
    "---\n",
    "#### Growing Strength\n",
    "- Make a variable called strength, and set its initial value to 5.\n",
    "- Print a message reporting the player's strength.\n",
    "- Set up a while loop that runs until the player's strength increases to a value such as 10.\n",
    "- Inside the while loop, print a message that reports the player's current strength.\n",
    "- Inside the while loop, write a statement that increases the player's strength.\n",
    "- Outside the while loop, print a message reporting that the player has grown too strong, and that they have moved up to a new level of the game.\n",
    "- Bonus: Play around with different cutoff levels for the value of *strength*, and play around with different ways to increase the strength value within the while loop."
   ]
  },
  {
   "cell_type": "markdown",
   "metadata": {},
   "source": [
    "<a id=\"Exercises-input\"></a>\n",
    "Exercises\n",
    "---\n",
    "#### Game Preferences\n",
    "- Make a list that includes 3 or 4 games that you like to play.\n",
    "- Print a statement that tells the user what games you like.\n",
    "- Ask the user to tell you a game they like, and store the game in a variable such as `new_game`.\n",
    "- Add the user's game to your list.\n",
    "- Print a new statement that lists all of the games that we like to play (*we* means you and your user)."
   ]
  },
  {
   "cell_type": "markdown",
   "metadata": {},
   "source": [
    "[top](#)"
   ]
  },
  {
   "cell_type": "markdown",
   "metadata": {},
   "source": [
    "<a id=\"Exercises-running\"></a>\n",
    "Exercises\n",
    "---\n",
    "#### Many Games\n",
    "- Modify *[Game Preferences](#exercises_input)* so your user can add as many games as they like."
   ]
  },
  {
   "cell_type": "markdown",
   "metadata": {},
   "source": [
    "[top](#)"
   ]
  }
 ],
 "metadata": {
  "kernelspec": {
   "display_name": "Python 3",
   "language": "python",
   "name": "python3"
  },
  "language_info": {
   "codemirror_mode": {
    "name": "ipython",
    "version": 3
   },
   "file_extension": ".py",
   "mimetype": "text/x-python",
   "name": "python",
   "nbconvert_exporter": "python",
   "pygments_lexer": "ipython3",
   "version": "3.6.9"
  }
 },
 "nbformat": 4,
 "nbformat_minor": 4
}
