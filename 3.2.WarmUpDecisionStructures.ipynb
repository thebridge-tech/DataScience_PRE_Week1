{
 "cells": [
  {
   "cell_type": "markdown",
   "metadata": {},
   "source": [
    "# Decision structures\n",
    "\n",
    "*Control flow* is where the rubber really meets the road in programming.\n",
    "Without it, a program is simply a list of statements that are sequentially executed.\n",
    "With control flow, you can execute certain code blocks conditionally and/or repeatedly: these basic building blocks can be combined to create surprisingly sophisticated programs!"
   ]
  },
  {
   "cell_type": "markdown",
   "metadata": {},
   "source": [
    "Here we'll cover *conditional statements* (including \"``if``\", \"``elif``\", and \"``else``\"), *loop statements* (including \"``for``\" and \"``while``\" and the accompanying \"``break``\", \"``continue``\", and \"``pass``\")."
   ]
  },
  {
   "cell_type": "markdown",
   "metadata": {},
   "source": [
    "If Statements\n",
    "===\n",
    "By allowing you to respond selectively to different situations and conditions, if statements open up whole new possibilities for your programs. In this section, you will learn how to test for certain conditions, and then respond in appropriate ways to those conditions."
   ]
  },
  {
   "cell_type": "markdown",
   "metadata": {},
   "source": [
    "What is an *if* statement?\n",
    "===\n",
    "An *if* statement tests for a condition, and then responds to that condition. If the condition is true, then whatever action is listed next gets carried out. You can test for multiple conditions at the same time, and respond appropriately to each condition.\n",
    "\n",
    "Example\n",
    "---\n",
    "Here is an example that shows a number of the desserts I like. It lists those desserts, but lets you know which one is my favorite."
   ]
  },
  {
   "cell_type": "code",
   "execution_count": 2,
   "metadata": {
    "collapsed": false,
    "jupyter": {
     "outputs_hidden": false
    }
   },
   "outputs": [
    {
     "name": "stdout",
     "output_type": "stream",
     "text": [
      "I like ice cream.\n",
      "I like chocolate.\n",
      "Apple Crisp is my favorite dessert!\n",
      "I like cookies.\n"
     ]
    }
   ],
   "source": [
    "# A list of desserts I like.\n",
    "desserts = ['ice cream', 'chocolate', 'apple crisp', 'cookies']\n",
    "favorite_dessert = 'apple crisp'\n",
    "\n",
    "# Print the desserts out, but let everyone know my favorite dessert.\n",
    "for dessert in desserts:\n",
    "    if dessert == favorite_dessert:\n",
    "        # This dessert is my favorite, let's let everyone know!\n",
    "        print(\"%s is my favorite dessert!\" % dessert.title())\n",
    "    else:\n",
    "        # I like these desserts, but they are not my favorite.\n",
    "        print(\"I like %s.\" % dessert)"
   ]
  },
  {
   "cell_type": "markdown",
   "metadata": {},
   "source": [
    "#### What happens in this program?\n",
    "\n",
    "- The program starts out with a list of desserts, and one dessert is identified as a favorite.\n",
    "- The for loop runs through all the desserts.\n",
    "- Inside the for loop, each item in the list is tested.\n",
    "    - If the current value of *dessert* is equal to the value of *favorite_dessert*, a message is printed that this is my favorite.\n",
    "    - If the current value of *dessert* is not equal to the value of *favorite_dessert*, a message is printed that I just like the dessert.\n",
    "    \n",
    "You can test as many conditions as you want in an if statement, as you will see in a little bit."
   ]
  },
  {
   "cell_type": "markdown",
   "metadata": {},
   "source": [
    "[top](#)"
   ]
  },
  {
   "cell_type": "markdown",
   "metadata": {},
   "source": [
    "Logical Tests\n",
    "===\n",
    "Every if statement evaluates to *True* or *False*. *True* and *False* are Python keywords, which have special meanings attached to them. You can test for the following conditions in your if statements:\n",
    "\n",
    "- [equality](#equality) (==)\n",
    "- [inequality](#inequality) (!=)\n",
    "- [other inequalities](#other_inequalities)\n",
    "    - greater than (>)\n",
    "    - greater than or equal to (>=)\n",
    "    - less than (<)\n",
    "    - less than or equal to (<=)\n",
    "- [You can test if an item is **in** a list.](#in_list)\n"
   ]
  },
  {
   "cell_type": "markdown",
   "metadata": {},
   "source": [
    "Equality\n",
    "---\n",
    "Two items are *equal* if they have the same value. You can test for equality between numbers, strings, and a number of other objects which you will learn about later. Some of these results may be surprising, so take a careful look at the examples below.\n",
    "\n",
    "In Python, as in many programming languages, two equals signs tests for equality.\n",
    "\n",
    "**Watch out!** Be careful of accidentally using one equals sign, which can really throw things off because that one equals sign actually sets your item to the value you are testing for!"
   ]
  },
  {
   "cell_type": "code",
   "execution_count": 3,
   "metadata": {
    "collapsed": false,
    "jupyter": {
     "outputs_hidden": false
    }
   },
   "outputs": [
    {
     "data": {
      "text/plain": [
       "True"
      ]
     },
     "execution_count": 3,
     "metadata": {},
     "output_type": "execute_result"
    }
   ],
   "source": [
    "5 == 5"
   ]
  },
  {
   "cell_type": "code",
   "execution_count": 4,
   "metadata": {
    "collapsed": false,
    "jupyter": {
     "outputs_hidden": false
    }
   },
   "outputs": [
    {
     "data": {
      "text/plain": [
       "False"
      ]
     },
     "execution_count": 4,
     "metadata": {},
     "output_type": "execute_result"
    }
   ],
   "source": [
    "3 == 5 "
   ]
  },
  {
   "cell_type": "code",
   "execution_count": 24,
   "metadata": {
    "collapsed": false,
    "jupyter": {
     "outputs_hidden": false
    }
   },
   "outputs": [
    {
     "data": {
      "text/plain": [
       "True"
      ]
     },
     "execution_count": 24,
     "metadata": {},
     "output_type": "execute_result"
    }
   ],
   "source": [
    "5 == 5.0"
   ]
  },
  {
   "cell_type": "code",
   "execution_count": 8,
   "metadata": {
    "collapsed": false,
    "jupyter": {
     "outputs_hidden": false
    }
   },
   "outputs": [
    {
     "data": {
      "text/plain": [
       "True"
      ]
     },
     "execution_count": 8,
     "metadata": {},
     "output_type": "execute_result"
    }
   ],
   "source": [
    "'eric' == 'eric'"
   ]
  },
  {
   "cell_type": "code",
   "execution_count": 9,
   "metadata": {
    "collapsed": false,
    "jupyter": {
     "outputs_hidden": false
    }
   },
   "outputs": [
    {
     "data": {
      "text/plain": [
       "False"
      ]
     },
     "execution_count": 9,
     "metadata": {},
     "output_type": "execute_result"
    }
   ],
   "source": [
    "'Eric' == 'eric'"
   ]
  },
  {
   "cell_type": "code",
   "execution_count": 10,
   "metadata": {
    "collapsed": false,
    "jupyter": {
     "outputs_hidden": false
    }
   },
   "outputs": [
    {
     "data": {
      "text/plain": [
       "True"
      ]
     },
     "execution_count": 10,
     "metadata": {},
     "output_type": "execute_result"
    }
   ],
   "source": [
    "'Eric'.lower() == 'eric'.lower()"
   ]
  },
  {
   "cell_type": "code",
   "execution_count": 11,
   "metadata": {
    "collapsed": false,
    "jupyter": {
     "outputs_hidden": false
    }
   },
   "outputs": [
    {
     "data": {
      "text/plain": [
       "False"
      ]
     },
     "execution_count": 11,
     "metadata": {},
     "output_type": "execute_result"
    }
   ],
   "source": [
    "'5' == 5"
   ]
  },
  {
   "cell_type": "code",
   "execution_count": 12,
   "metadata": {
    "collapsed": false,
    "jupyter": {
     "outputs_hidden": false
    }
   },
   "outputs": [
    {
     "data": {
      "text/plain": [
       "True"
      ]
     },
     "execution_count": 12,
     "metadata": {},
     "output_type": "execute_result"
    }
   ],
   "source": [
    "'5' == str(5)"
   ]
  },
  {
   "cell_type": "markdown",
   "metadata": {},
   "source": [
    "[top](#)"
   ]
  },
  {
   "cell_type": "markdown",
   "metadata": {},
   "source": [
    "Inequality\n",
    "---\n",
    "Two items are *inequal* if they do not have the same value. In Python, we test for inequality using the exclamation point and one equals sign.\n",
    "\n",
    "Sometimes you want to test for equality and if that fails, assume inequality. Sometimes it makes more sense to test for inequality directly."
   ]
  },
  {
   "cell_type": "code",
   "execution_count": 13,
   "metadata": {
    "collapsed": false,
    "jupyter": {
     "outputs_hidden": false
    }
   },
   "outputs": [
    {
     "data": {
      "text/plain": [
       "True"
      ]
     },
     "execution_count": 13,
     "metadata": {},
     "output_type": "execute_result"
    }
   ],
   "source": [
    "3 != 5"
   ]
  },
  {
   "cell_type": "code",
   "execution_count": 14,
   "metadata": {
    "collapsed": false,
    "jupyter": {
     "outputs_hidden": false
    }
   },
   "outputs": [
    {
     "data": {
      "text/plain": [
       "False"
      ]
     },
     "execution_count": 14,
     "metadata": {},
     "output_type": "execute_result"
    }
   ],
   "source": [
    "5 != 5"
   ]
  },
  {
   "cell_type": "code",
   "execution_count": 18,
   "metadata": {
    "collapsed": false,
    "jupyter": {
     "outputs_hidden": false
    }
   },
   "outputs": [
    {
     "data": {
      "text/plain": [
       "True"
      ]
     },
     "execution_count": 18,
     "metadata": {},
     "output_type": "execute_result"
    }
   ],
   "source": [
    "'Eric' != 'eric'"
   ]
  },
  {
   "cell_type": "markdown",
   "metadata": {},
   "source": [
    "[top](#)"
   ]
  },
  {
   "cell_type": "markdown",
   "metadata": {},
   "source": [
    "Other Inequalities\n",
    "---\n",
    "### greater than"
   ]
  },
  {
   "cell_type": "code",
   "execution_count": 16,
   "metadata": {
    "collapsed": false,
    "jupyter": {
     "outputs_hidden": false
    }
   },
   "outputs": [
    {
     "data": {
      "text/plain": [
       "True"
      ]
     },
     "execution_count": 16,
     "metadata": {},
     "output_type": "execute_result"
    }
   ],
   "source": [
    "5 > 3"
   ]
  },
  {
   "cell_type": "markdown",
   "metadata": {},
   "source": [
    "### greater than or equal to"
   ]
  },
  {
   "cell_type": "code",
   "execution_count": 19,
   "metadata": {
    "collapsed": false,
    "jupyter": {
     "outputs_hidden": false
    }
   },
   "outputs": [
    {
     "data": {
      "text/plain": [
       "True"
      ]
     },
     "execution_count": 19,
     "metadata": {},
     "output_type": "execute_result"
    }
   ],
   "source": [
    "5 >= 3"
   ]
  },
  {
   "cell_type": "code",
   "execution_count": 20,
   "metadata": {
    "collapsed": false,
    "jupyter": {
     "outputs_hidden": false
    }
   },
   "outputs": [
    {
     "data": {
      "text/plain": [
       "True"
      ]
     },
     "execution_count": 20,
     "metadata": {},
     "output_type": "execute_result"
    }
   ],
   "source": [
    "3 >= 3"
   ]
  },
  {
   "cell_type": "markdown",
   "metadata": {},
   "source": [
    "### less than"
   ]
  },
  {
   "cell_type": "code",
   "execution_count": 21,
   "metadata": {
    "collapsed": false,
    "jupyter": {
     "outputs_hidden": false
    }
   },
   "outputs": [
    {
     "data": {
      "text/plain": [
       "True"
      ]
     },
     "execution_count": 21,
     "metadata": {},
     "output_type": "execute_result"
    }
   ],
   "source": [
    "3 < 5"
   ]
  },
  {
   "cell_type": "markdown",
   "metadata": {},
   "source": [
    "### less than or equal to"
   ]
  },
  {
   "cell_type": "code",
   "execution_count": 22,
   "metadata": {
    "collapsed": false,
    "jupyter": {
     "outputs_hidden": false
    }
   },
   "outputs": [
    {
     "data": {
      "text/plain": [
       "True"
      ]
     },
     "execution_count": 22,
     "metadata": {},
     "output_type": "execute_result"
    }
   ],
   "source": [
    "3 <= 5"
   ]
  },
  {
   "cell_type": "code",
   "execution_count": 23,
   "metadata": {
    "collapsed": false,
    "jupyter": {
     "outputs_hidden": false
    }
   },
   "outputs": [
    {
     "data": {
      "text/plain": [
       "True"
      ]
     },
     "execution_count": 23,
     "metadata": {},
     "output_type": "execute_result"
    }
   ],
   "source": [
    "3 <= 3"
   ]
  },
  {
   "cell_type": "markdown",
   "metadata": {},
   "source": [
    "[top](#)"
   ]
  },
  {
   "cell_type": "markdown",
   "metadata": {},
   "source": [
    "Checking if an item is **in** a list\n",
    "---\n",
    "You can check if an item is in a list using the **in** keyword."
   ]
  },
  {
   "cell_type": "code",
   "execution_count": 25,
   "metadata": {
    "collapsed": false,
    "jupyter": {
     "outputs_hidden": false
    }
   },
   "outputs": [
    {
     "data": {
      "text/plain": [
       "True"
      ]
     },
     "execution_count": 25,
     "metadata": {},
     "output_type": "execute_result"
    }
   ],
   "source": [
    "vowels = ['a', 'e', 'i', 'o', 'u']\n",
    "'a' in vowels"
   ]
  },
  {
   "cell_type": "code",
   "execution_count": 26,
   "metadata": {
    "collapsed": false,
    "jupyter": {
     "outputs_hidden": false
    }
   },
   "outputs": [
    {
     "data": {
      "text/plain": [
       "False"
      ]
     },
     "execution_count": 26,
     "metadata": {},
     "output_type": "execute_result"
    }
   ],
   "source": [
    "vowels = ['a', 'e', 'i', 'o', 'u']\n",
    "'b' in vowels"
   ]
  },
  {
   "cell_type": "markdown",
   "metadata": {},
   "source": [
    "The if-elif...else chain\n",
    "===\n",
    "You can test whatever series of conditions you want to, and you can test your conditions in any combination you want."
   ]
  },
  {
   "cell_type": "markdown",
   "metadata": {},
   "source": [
    "Simple if statements\n",
    "---\n",
    "The simplest test has a single **if** statement, and a single statement to execute if the condition is **True**."
   ]
  },
  {
   "cell_type": "code",
   "execution_count": 27,
   "metadata": {
    "collapsed": false,
    "jupyter": {
     "outputs_hidden": false
    }
   },
   "outputs": [
    {
     "name": "stdout",
     "output_type": "stream",
     "text": [
      "Wow, we have a lot of dogs here!\n"
     ]
    }
   ],
   "source": [
    "dogs = ['willie', 'hootz', 'peso', 'juno']\n",
    "\n",
    "if len(dogs) > 3:\n",
    "    print(\"Wow, we have a lot of dogs here!\")"
   ]
  },
  {
   "cell_type": "markdown",
   "metadata": {},
   "source": [
    "In this situation, nothing happens if the test does not pass."
   ]
  },
  {
   "cell_type": "code",
   "execution_count": 28,
   "metadata": {
    "collapsed": false,
    "jupyter": {
     "outputs_hidden": false
    }
   },
   "outputs": [],
   "source": [
    "###highlight=[2]\n",
    "dogs = ['willie', 'hootz']\n",
    "\n",
    "if len(dogs) > 3:\n",
    "    print(\"Wow, we have a lot of dogs here!\")"
   ]
  },
  {
   "cell_type": "markdown",
   "metadata": {},
   "source": [
    "Notice that there are no errors. The condition `len(dogs) > 3` evaluates to False, and the program moves on to any lines after the **if** block."
   ]
  },
  {
   "cell_type": "markdown",
   "metadata": {},
   "source": [
    "if-else statements\n",
    "---\n",
    "Many times you will want to respond in two possible ways to a test. If the test evaluates to **True**, you will want to do one thing. If the test evaluates to **False**, you will want to do something else. The **if-else** structure lets you do that easily. Here's what it looks like:"
   ]
  },
  {
   "cell_type": "code",
   "execution_count": 30,
   "metadata": {
    "collapsed": false,
    "jupyter": {
     "outputs_hidden": false
    }
   },
   "outputs": [
    {
     "name": "stdout",
     "output_type": "stream",
     "text": [
      "Wow, we have a lot of dogs here!\n"
     ]
    }
   ],
   "source": [
    "dogs = ['willie', 'hootz', 'peso', 'juno']\n",
    "\n",
    "if len(dogs) > 3:\n",
    "    print(\"Wow, we have a lot of dogs here!\")\n",
    "else:\n",
    "    print(\"Okay, this is a reasonable number of dogs.\")"
   ]
  },
  {
   "cell_type": "markdown",
   "metadata": {},
   "source": [
    "Our results have not changed in this case, because if the test evaluates to **True** only the statements under the **if** statement are executed. The statements under **else** area only executed if the test fails:"
   ]
  },
  {
   "cell_type": "code",
   "execution_count": 31,
   "metadata": {
    "collapsed": false,
    "jupyter": {
     "outputs_hidden": false
    }
   },
   "outputs": [
    {
     "name": "stdout",
     "output_type": "stream",
     "text": [
      "Okay, this is a reasonable number of dogs.\n"
     ]
    }
   ],
   "source": [
    "###highlight=[2]\n",
    "dogs = ['willie', 'hootz']\n",
    "\n",
    "if len(dogs) > 3:\n",
    "    print(\"Wow, we have a lot of dogs here!\")\n",
    "else:\n",
    "    print(\"Okay, this is a reasonable number of dogs.\")"
   ]
  },
  {
   "cell_type": "markdown",
   "metadata": {},
   "source": [
    "The test evaluated to **False**, so only the statement under `else` is run."
   ]
  },
  {
   "cell_type": "markdown",
   "metadata": {},
   "source": [
    "if-elif...else chains\n",
    "---\n",
    "Many times, you will want to test a series of conditions, rather than just an either-or situation. You can do this with a series of if-elif-else statements\n",
    "\n",
    "There is no limit to how many conditions you can test. You always need one if statement to start the chain, and you can never have more than one else statement. But you can have as many elif statements as you want."
   ]
  },
  {
   "cell_type": "code",
   "execution_count": 32,
   "metadata": {
    "collapsed": false,
    "jupyter": {
     "outputs_hidden": false
    }
   },
   "outputs": [
    {
     "name": "stdout",
     "output_type": "stream",
     "text": [
      "Holy mackerel, we might as well start a dog hostel!\n"
     ]
    }
   ],
   "source": [
    "dogs = ['willie', 'hootz', 'peso', 'monty', 'juno', 'turkey']\n",
    "\n",
    "if len(dogs) >= 5:\n",
    "    print(\"Holy mackerel, we might as well start a dog hostel!\")\n",
    "elif len(dogs) >= 3:\n",
    "    print(\"Wow, we have a lot of dogs here!\")\n",
    "else:\n",
    "    print(\"Okay, this is a reasonable number of dogs.\")"
   ]
  },
  {
   "cell_type": "markdown",
   "metadata": {},
   "source": [
    "It is important to note that in situations like this, only the first test is evaluated. In an if-elif-else chain, once a test passes the rest of the conditions are ignored."
   ]
  },
  {
   "cell_type": "code",
   "execution_count": 33,
   "metadata": {
    "collapsed": false,
    "jupyter": {
     "outputs_hidden": false
    }
   },
   "outputs": [
    {
     "name": "stdout",
     "output_type": "stream",
     "text": [
      "Wow, we have a lot of dogs here!\n"
     ]
    }
   ],
   "source": [
    "###highlight=[2]\n",
    "dogs = ['willie', 'hootz', 'peso', 'monty']\n",
    "\n",
    "if len(dogs) >= 5:\n",
    "    print(\"Holy mackerel, we might as well start a dog hostel!\")\n",
    "elif len(dogs) >= 3:\n",
    "    print(\"Wow, we have a lot of dogs here!\")\n",
    "else:\n",
    "    print(\"Okay, this is a reasonable number of dogs.\")"
   ]
  },
  {
   "cell_type": "markdown",
   "metadata": {},
   "source": [
    "The first test failed, so Python evaluated the second test. That test passed, so the statement corresponding to `len(dogs) >= 3` is executed."
   ]
  },
  {
   "cell_type": "code",
   "execution_count": 34,
   "metadata": {
    "collapsed": false,
    "jupyter": {
     "outputs_hidden": false
    }
   },
   "outputs": [
    {
     "name": "stdout",
     "output_type": "stream",
     "text": [
      "Okay, this is a reasonable number of dogs.\n"
     ]
    }
   ],
   "source": [
    "###highlight=[2]\n",
    "dogs = ['willie', 'hootz']\n",
    "\n",
    "if len(dogs) >= 5:\n",
    "    print(\"Holy mackerel, we might as well start a dog hostel!\")\n",
    "elif len(dogs) >= 3:\n",
    "    print(\"Wow, we have a lot of dogs here!\")\n",
    "else:\n",
    "    print(\"Okay, this is a reasonable number of dogs.\")"
   ]
  },
  {
   "cell_type": "markdown",
   "metadata": {},
   "source": [
    "In this situation, the first two tests fail, so the statement in the else clause is executed. Note that this statement would be executed even if there are no dogs at all:"
   ]
  },
  {
   "cell_type": "code",
   "execution_count": 35,
   "metadata": {
    "collapsed": false,
    "jupyter": {
     "outputs_hidden": false
    }
   },
   "outputs": [
    {
     "name": "stdout",
     "output_type": "stream",
     "text": [
      "Okay, this is a reasonable number of dogs.\n"
     ]
    }
   ],
   "source": [
    "###highlight=[2]\n",
    "dogs = []\n",
    "\n",
    "if len(dogs) >= 5:\n",
    "    print(\"Holy mackerel, we might as well start a dog hostel!\")\n",
    "elif len(dogs) >= 3:\n",
    "    print(\"Wow, we have a lot of dogs here!\")\n",
    "else:\n",
    "    print(\"Okay, this is a reasonable number of dogs.\")"
   ]
  },
  {
   "cell_type": "markdown",
   "metadata": {},
   "source": [
    "Note that you don't have to take any action at all when you start a series of if statements. You could simply do nothing in the situation that there are no dogs by replacing the `else` clause with another `elif` clause:"
   ]
  },
  {
   "cell_type": "code",
   "execution_count": 36,
   "metadata": {
    "collapsed": false,
    "jupyter": {
     "outputs_hidden": false
    }
   },
   "outputs": [],
   "source": [
    "###highlight=[8]\n",
    "dogs = []\n",
    "\n",
    "if len(dogs) >= 5:\n",
    "    print(\"Holy mackerel, we might as well start a dog hostel!\")\n",
    "elif len(dogs) >= 3:\n",
    "    print(\"Wow, we have a lot of dogs here!\")\n",
    "elif len(dogs) >= 1:\n",
    "    print(\"Okay, this is a reasonable number of dogs.\")"
   ]
  },
  {
   "cell_type": "markdown",
   "metadata": {},
   "source": [
    "In this case, we only print a message if there is at least one dog present. Of course, you could add a new `else` clause to respond to the situation in which there are no dogs at all:"
   ]
  },
  {
   "cell_type": "code",
   "execution_count": 37,
   "metadata": {
    "collapsed": false,
    "jupyter": {
     "outputs_hidden": false
    }
   },
   "outputs": [
    {
     "name": "stdout",
     "output_type": "stream",
     "text": [
      "I wish we had a dog here.\n"
     ]
    }
   ],
   "source": [
    "###highlight=[10,11]\n",
    "dogs = []\n",
    "\n",
    "if len(dogs) >= 5:\n",
    "    print(\"Holy mackerel, we might as well start a dog hostel!\")\n",
    "elif len(dogs) >= 3:\n",
    "    print(\"Wow, we have a lot of dogs here!\")\n",
    "elif len(dogs) >= 1:\n",
    "    print(\"Okay, this is a reasonable number of dogs.\")\n",
    "else:\n",
    "    print(\"I wish we had a dog here.\")"
   ]
  },
  {
   "cell_type": "markdown",
   "metadata": {},
   "source": [
    "As you can see, the if-elif-else chain lets you respond in very specific ways to any given situation."
   ]
  },
  {
   "cell_type": "markdown",
   "metadata": {},
   "source": [
    "More than one passing test\n",
    "===\n",
    "In all of the examples we have seen so far, only one test can pass. As soon as the first test passes, the rest of the tests are ignored. This is really good, because it allows our code to run more efficiently. Many times only one condition can be true, so testing every condition after one passes would be meaningless.\n",
    "\n",
    "There are situations in which you want to run a series of tests, where every single test runs. These are situations where any or all of the tests could pass, and you want to respond to each passing test. Consider the following example, where we want to greet each dog that is present:"
   ]
  },
  {
   "cell_type": "code",
   "execution_count": 38,
   "metadata": {
    "collapsed": false,
    "jupyter": {
     "outputs_hidden": false
    }
   },
   "outputs": [
    {
     "name": "stdout",
     "output_type": "stream",
     "text": [
      "Hello, Willie!\n",
      "Hello, Hootz!\n"
     ]
    }
   ],
   "source": [
    "dogs = ['willie', 'hootz']\n",
    "\n",
    "if 'willie' in dogs:\n",
    "    print(\"Hello, Willie!\")\n",
    "if 'hootz' in dogs:\n",
    "    print(\"Hello, Hootz!\")\n",
    "if 'peso' in dogs:\n",
    "    print(\"Hello, Peso!\")\n",
    "if 'monty' in dogs:\n",
    "    print(\"Hello, Monty!\")"
   ]
  },
  {
   "cell_type": "markdown",
   "metadata": {},
   "source": [
    "If we had done this using an if-elif-else chain, only the first dog that is present would be greeted:"
   ]
  },
  {
   "cell_type": "code",
   "execution_count": 41,
   "metadata": {
    "collapsed": false,
    "jupyter": {
     "outputs_hidden": false
    }
   },
   "outputs": [
    {
     "name": "stdout",
     "output_type": "stream",
     "text": [
      "Hello, Willie!\n"
     ]
    }
   ],
   "source": [
    "###highlight=[6,7,8,9,10,11]\n",
    "dogs = ['willie', 'hootz']\n",
    "\n",
    "if 'willie' in dogs:\n",
    "    print(\"Hello, Willie!\")\n",
    "elif 'hootz' in dogs:\n",
    "    print(\"Hello, Hootz!\")\n",
    "elif 'peso' in dogs:\n",
    "    print(\"Hello, Peso!\")\n",
    "elif 'monty' in dogs:\n",
    "    print(\"Hello, Monty!\")"
   ]
  },
  {
   "cell_type": "markdown",
   "metadata": {},
   "source": [
    "Of course, this could be written much more cleanly using lists and for loops. See if you can follow this code."
   ]
  },
  {
   "cell_type": "code",
   "execution_count": 43,
   "metadata": {
    "collapsed": false,
    "jupyter": {
     "outputs_hidden": false
    }
   },
   "outputs": [
    {
     "name": "stdout",
     "output_type": "stream",
     "text": [
      "Hello, Willie!\n",
      "Hello, Hootz!\n"
     ]
    }
   ],
   "source": [
    "dogs_we_know = ['willie', 'hootz', 'peso', 'monty', 'juno', 'turkey']\n",
    "dogs_present = ['willie', 'hootz']\n",
    "\n",
    "# Go through all the dogs that are present, and greet the dogs we know.\n",
    "for dog in dogs_present:\n",
    "    if dog in dogs_we_know:\n",
    "        print(\"Hello, %s!\" % dog.title())"
   ]
  },
  {
   "cell_type": "markdown",
   "metadata": {},
   "source": [
    "This is the kind of code you should be aiming to write. It is fine to come up with code that is less efficient at first. When you notice yourself writing the same kind of code repeatedly in one program, look to see if you can use a loop or a function to make your code more efficient."
   ]
  },
  {
   "cell_type": "markdown",
   "metadata": {},
   "source": [
    "[top](#)"
   ]
  },
  {
   "cell_type": "markdown",
   "metadata": {},
   "source": [
    "True and False values\n",
    "===\n",
    "Every value can be evaluated as True or False. The general rule is that any non-zero or non-empty value will evaluate to True. If you are ever unsure, you can open a Python terminal and write two lines to find out if the value you are considering is True or False. Take a look at the following examples, keep them in mind, and test any value you are curious about. I am using a slightly longer test just to make sure something gets printed each time."
   ]
  },
  {
   "cell_type": "code",
   "execution_count": 60,
   "metadata": {
    "collapsed": false,
    "jupyter": {
     "outputs_hidden": false
    }
   },
   "outputs": [
    {
     "name": "stdout",
     "output_type": "stream",
     "text": [
      "This evaluates to False.\n"
     ]
    }
   ],
   "source": [
    "###highlight=[2]\n",
    "if 0:\n",
    "    print(\"This evaluates to True.\")\n",
    "else:\n",
    "    print(\"This evaluates to False.\")"
   ]
  },
  {
   "cell_type": "code",
   "execution_count": 61,
   "metadata": {
    "collapsed": false,
    "jupyter": {
     "outputs_hidden": false
    }
   },
   "outputs": [
    {
     "name": "stdout",
     "output_type": "stream",
     "text": [
      "This evaluates to True.\n"
     ]
    }
   ],
   "source": [
    "###highlight=[2]\n",
    "if 1:\n",
    "    print(\"This evaluates to True.\")\n",
    "else:\n",
    "    print(\"This evaluates to False.\")"
   ]
  },
  {
   "cell_type": "code",
   "execution_count": 62,
   "metadata": {
    "collapsed": false,
    "jupyter": {
     "outputs_hidden": false
    }
   },
   "outputs": [
    {
     "name": "stdout",
     "output_type": "stream",
     "text": [
      "This evaluates to True.\n"
     ]
    }
   ],
   "source": [
    "###highlight=[2,3]\n",
    "# Arbitrary non-zero numbers evaluate to True.\n",
    "if 1253756:\n",
    "    print(\"This evaluates to True.\")\n",
    "else:\n",
    "    print(\"This evaluates to False.\")"
   ]
  },
  {
   "cell_type": "code",
   "execution_count": 63,
   "metadata": {
    "collapsed": false,
    "jupyter": {
     "outputs_hidden": false
    }
   },
   "outputs": [
    {
     "name": "stdout",
     "output_type": "stream",
     "text": [
      "This evaluates to True.\n"
     ]
    }
   ],
   "source": [
    "###highlight=[2,3]\n",
    "# Negative numbers are not zero, so they evaluate to True.\n",
    "if -1:\n",
    "    print(\"This evaluates to True.\")\n",
    "else:\n",
    "    print(\"This evaluates to False.\")"
   ]
  },
  {
   "cell_type": "code",
   "execution_count": 64,
   "metadata": {
    "collapsed": false,
    "jupyter": {
     "outputs_hidden": false
    }
   },
   "outputs": [
    {
     "name": "stdout",
     "output_type": "stream",
     "text": [
      "This evaluates to False.\n"
     ]
    }
   ],
   "source": [
    "###highlight=[2,3]\n",
    "# An empty string evaluates to False.\n",
    "if '':\n",
    "    print(\"This evaluates to True.\")\n",
    "else:\n",
    "    print(\"This evaluates to False.\")"
   ]
  },
  {
   "cell_type": "code",
   "execution_count": 66,
   "metadata": {
    "collapsed": false,
    "jupyter": {
     "outputs_hidden": false
    }
   },
   "outputs": [
    {
     "name": "stdout",
     "output_type": "stream",
     "text": [
      "This evaluates to True.\n"
     ]
    }
   ],
   "source": [
    "###highlight=[2,3]\n",
    "# Any other string, including a space, evaluates to True.\n",
    "if ' ':\n",
    "    print(\"This evaluates to True.\")\n",
    "else:\n",
    "    print(\"This evaluates to False.\")"
   ]
  },
  {
   "cell_type": "code",
   "execution_count": 67,
   "metadata": {
    "collapsed": false,
    "jupyter": {
     "outputs_hidden": false
    }
   },
   "outputs": [
    {
     "name": "stdout",
     "output_type": "stream",
     "text": [
      "This evaluates to True.\n"
     ]
    }
   ],
   "source": [
    "###highlight=[2,3]\n",
    "# Any other string, including a space, evaluates to True.\n",
    "if 'hello':\n",
    "    print(\"This evaluates to True.\")\n",
    "else:\n",
    "    print(\"This evaluates to False.\")"
   ]
  },
  {
   "cell_type": "code",
   "execution_count": 68,
   "metadata": {
    "collapsed": false,
    "jupyter": {
     "outputs_hidden": false
    }
   },
   "outputs": [
    {
     "name": "stdout",
     "output_type": "stream",
     "text": [
      "This evaluates to False.\n"
     ]
    }
   ],
   "source": [
    "###highlight=[2,3]\n",
    "# None is a special object in Python. It evaluates to False.\n",
    "if None:\n",
    "    print(\"This evaluates to True.\")\n",
    "else:\n",
    "    print(\"This evaluates to False.\")"
   ]
  },
  {
   "cell_type": "markdown",
   "metadata": {},
   "source": [
    "## ``for`` loops\n",
    "Loops in Python are a way to repeatedly execute some code statement.\n",
    "So, for example, if we'd like to print each of the items in a list, we can use a ``for`` loop:"
   ]
  },
  {
   "cell_type": "code",
   "execution_count": 2,
   "metadata": {
    "collapsed": false,
    "jupyter": {
     "outputs_hidden": false
    }
   },
   "outputs": [
    {
     "name": "stdout",
     "output_type": "stream",
     "text": [
      "2 3 5 7 "
     ]
    }
   ],
   "source": [
    "for N in [2, 3, 5, 7]:\n",
    "    print(N, end=' ') # print all on same line"
   ]
  },
  {
   "cell_type": "markdown",
   "metadata": {},
   "source": [
    "Notice the simplicity of the ``for`` loop: we specify the variable we want to use, the sequence we want to loop over, and use the \"``in``\" operator to link them together in an intuitive and readable way.\n",
    "More precisely, the object to the right of the \"``in``\" can be any Python *iterator*.\n",
    "An iterator can be thought of as a generalized sequence, and we'll discuss them in [Iterators](10-Iterators.ipynb).\n",
    "\n",
    "For example, one of the most commonly-used iterators in Python is the ``range`` object, which generates a sequence of numbers:"
   ]
  },
  {
   "cell_type": "code",
   "execution_count": 3,
   "metadata": {
    "collapsed": false,
    "jupyter": {
     "outputs_hidden": false
    }
   },
   "outputs": [
    {
     "name": "stdout",
     "output_type": "stream",
     "text": [
      "0 1 2 3 4 5 6 7 8 9 "
     ]
    }
   ],
   "source": [
    "for i in range(10):\n",
    "    print(i, end=' ')"
   ]
  },
  {
   "cell_type": "markdown",
   "metadata": {},
   "source": [
    "Note that the range starts at zero by default, and that by convention the top of the range is not included in the output.\n",
    "Range objects can also have more complicated values:"
   ]
  },
  {
   "cell_type": "code",
   "execution_count": 4,
   "metadata": {
    "collapsed": false,
    "jupyter": {
     "outputs_hidden": false
    }
   },
   "outputs": [
    {
     "data": {
      "text/plain": [
       "[5, 6, 7, 8, 9]"
      ]
     },
     "execution_count": 4,
     "metadata": {},
     "output_type": "execute_result"
    }
   ],
   "source": [
    "# range from 5 to 10\n",
    "list(range(5, 10))"
   ]
  },
  {
   "cell_type": "code",
   "execution_count": 5,
   "metadata": {
    "collapsed": false,
    "jupyter": {
     "outputs_hidden": false
    }
   },
   "outputs": [
    {
     "data": {
      "text/plain": [
       "[0, 2, 4, 6, 8]"
      ]
     },
     "execution_count": 5,
     "metadata": {},
     "output_type": "execute_result"
    }
   ],
   "source": [
    "# range from 0 to 10 by 2\n",
    "list(range(0, 10, 2))"
   ]
  },
  {
   "cell_type": "markdown",
   "metadata": {},
   "source": [
    "You might notice that the meaning of ``range`` arguments is very similar to the slicing syntax that we covered in [Lists](06-Built-in-Data-Structures.ipynb#Lists).\n",
    "\n",
    "Note that the behavior of ``range()`` is one of the differences between Python 2 and Python 3: in Python 2, ``range()`` produces a list, while in Python 3, ``range()`` produces an iterable object."
   ]
  },
  {
   "cell_type": "markdown",
   "metadata": {},
   "source": [
    "While Loops and Input\n",
    "===\n",
    "While loops are really useful because they let your program run until a user decides to quit the program. They set up an infinite loop that runs until the user does something to end the loop. This section also introduces the first way to get input from your program's users."
   ]
  },
  {
   "cell_type": "markdown",
   "metadata": {},
   "source": [
    "What is a while loop?\n",
    "===\n",
    "A while loop tests an initial condition. If that condition is true, the loop starts executing. Every time the loop finishes, the condition is reevaluated. As long as the condition remains true, the loop keeps executing. As soon as the condition becomes false, the loop stops executing."
   ]
  },
  {
   "cell_type": "markdown",
   "metadata": {},
   "source": [
    "General syntax\n",
    "---"
   ]
  },
  {
   "cell_type": "code",
   "execution_count": null,
   "metadata": {
    "collapsed": false,
    "jupyter": {
     "outputs_hidden": false
    }
   },
   "outputs": [],
   "source": [
    "# Set an initial condition.\n",
    "game_active = True\n",
    "\n",
    "# Set up the while loop.\n",
    "while game_active:\n",
    "    # Run the game.\n",
    "    # At some point, the game ends and game_active will be set to False.\n",
    "    #   When that happens, the loop will stop executing.\n",
    "    \n",
    "# Do anything else you want done after the loop runs."
   ]
  },
  {
   "cell_type": "markdown",
   "metadata": {},
   "source": [
    "- Every while loop needs an initial condition that starts out true.\n",
    "- The `while` statement includes a condition to test.\n",
    "- All of the code in the loop will run as long as the condition remains true.\n",
    "- As soon as something in the loop changes the condition such that the test no longer passes, the loop stops executing.\n",
    "- Any code that is defined after the loop will run at this point."
   ]
  },
  {
   "cell_type": "markdown",
   "metadata": {},
   "source": [
    "Example\n",
    "---\n",
    "Here is a simple example, showing how a game will stay active as long as the player has enough power."
   ]
  },
  {
   "cell_type": "code",
   "execution_count": 3,
   "metadata": {
    "collapsed": false,
    "jupyter": {
     "outputs_hidden": false
    }
   },
   "outputs": [
    {
     "name": "stdout",
     "output_type": "stream",
     "text": [
      "You are still playing, because your power is 5.\n",
      "You are still playing, because your power is 4.\n",
      "You are still playing, because your power is 3.\n",
      "You are still playing, because your power is 2.\n",
      "You are still playing, because your power is 1.\n",
      "\n",
      "Oh no, your power dropped to 0! Game Over.\n"
     ]
    }
   ],
   "source": [
    "# The player's power starts out at 5.\n",
    "power = 5\n",
    "\n",
    "# The player is allowed to keep playing as long as their power is over 0.\n",
    "while power > 0:\n",
    "    print(\"You are still playing, because your power is %d.\" % power)\n",
    "    # Your game code would go here, which includes challenges that make it\n",
    "    #   possible to lose power.\n",
    "    # We can represent that by just taking away from the power.\n",
    "    power = power - 1\n",
    "    \n",
    "print(\"\\nOh no, your power dropped to 0! Game Over.\")"
   ]
  },
  {
   "cell_type": "markdown",
   "metadata": {},
   "source": [
    "[top](#)"
   ]
  },
  {
   "cell_type": "markdown",
   "metadata": {},
   "source": [
    "Accepting user input\n",
    "===\n",
    "Almost all interesting programs accept input from the user at some point. You can start accepting user input in your programs by using the `input()` function. The input function displays a messaget to the user describing the kind of input you are looking for, and then it waits for the user to enter a value. When the user presses Enter, the value is passed to your variable."
   ]
  },
  {
   "cell_type": "markdown",
   "metadata": {},
   "source": [
    "<a id=\"General-syntax-input\"></a>\n",
    "General syntax\n",
    "---\n",
    "The general case for accepting input looks something like this:"
   ]
  },
  {
   "cell_type": "code",
   "execution_count": null,
   "metadata": {
    "collapsed": false,
    "jupyter": {
     "outputs_hidden": false
    }
   },
   "outputs": [],
   "source": [
    "# Get some input from the user.\n",
    "variable = input('Please enter a value: ')\n",
    "# Do something with the value that was entered."
   ]
  },
  {
   "cell_type": "markdown",
   "metadata": {},
   "source": [
    "You need a variable that will hold whatever value the user enters, and you need a message that will be displayed to the user."
   ]
  },
  {
   "cell_type": "markdown",
   "metadata": {},
   "source": [
    "<a id=\"Example-input\"></a>\n",
    "Example\n",
    "---\n",
    "In the following example, we have a list of names. We ask the user for a name, and we add it to our list of names."
   ]
  },
  {
   "cell_type": "code",
   "execution_count": 7,
   "metadata": {
    "collapsed": false,
    "jupyter": {
     "outputs_hidden": false
    }
   },
   "outputs": [
    {
     "name": "stdout",
     "output_type": "stream",
     "text": [
      "Please tell me someone I should know: jessica\n",
      "['guido', 'tim', 'jesse', 'jessica']\n"
     ]
    }
   ],
   "source": [
    "# Start with a list containing several names.\n",
    "names = ['guido', 'tim', 'jesse']\n",
    "\n",
    "# Ask the user for a name.\n",
    "new_name = input(\"Please tell me someone I should know: \")\n",
    "\n",
    "# Add the new name to our list.\n",
    "names.append(new_name)\n",
    "\n",
    "# Show that the name has been added to the list.\n",
    "print(names)"
   ]
  },
  {
   "cell_type": "markdown",
   "metadata": {},
   "source": [
    "Using while loops to keep your programs running\n",
    "===\n",
    "Most of the programs we use every day run until we tell them to quit, and in the background this is often done with a while loop. Here is an example of how to let the user enter an arbitrary number of names."
   ]
  },
  {
   "cell_type": "code",
   "execution_count": 9,
   "metadata": {
    "collapsed": false,
    "jupyter": {
     "outputs_hidden": false
    }
   },
   "outputs": [
    {
     "name": "stdout",
     "output_type": "stream",
     "text": [
      "Please tell me someone I should know, or enter 'quit': guido\n",
      "Please tell me someone I should know, or enter 'quit': jesse\n",
      "Please tell me someone I should know, or enter 'quit': jessica\n",
      "Please tell me someone I should know, or enter 'quit': tim\n",
      "Please tell me someone I should know, or enter 'quit': quit\n",
      "['guido', 'jesse', 'jessica', 'tim', 'quit']\n"
     ]
    }
   ],
   "source": [
    "# Start with an empty list. You can 'seed' the list with\n",
    "#  some predefined values if you like.\n",
    "names = []\n",
    "\n",
    "# Set new_name to something other than 'quit'.\n",
    "new_name = ''\n",
    "\n",
    "# Start a loop that will run until the user enters 'quit'.\n",
    "while new_name != 'quit':\n",
    "    # Ask the user for a name.\n",
    "    new_name = input(\"Please tell me someone I should know, or enter 'quit': \")\n",
    "\n",
    "    # Add the new name to our list.\n",
    "    names.append(new_name)\n",
    "\n",
    "# Show that the name has been added to the list.\n",
    "print(names)"
   ]
  },
  {
   "cell_type": "markdown",
   "metadata": {},
   "source": [
    "That worked, except we ended up with the name 'quit' in our list. We can use a simple `if` test to eliminate this bug:"
   ]
  },
  {
   "cell_type": "code",
   "execution_count": 10,
   "metadata": {
    "collapsed": false,
    "jupyter": {
     "outputs_hidden": false
    }
   },
   "outputs": [
    {
     "name": "stdout",
     "output_type": "stream",
     "text": [
      "Please tell me someone I should know, or enter 'quit': guido\n",
      "Please tell me someone I should know, or enter 'quit': jesse\n",
      "Please tell me someone I should know, or enter 'quit': jessica\n",
      "Please tell me someone I should know, or enter 'quit': tim\n",
      "Please tell me someone I should know, or enter 'quit': quit\n",
      "['guido', 'jesse', 'jessica', 'tim']\n"
     ]
    }
   ],
   "source": [
    "###highlight=[15,16]\n",
    "# Start with an empty list. You can 'seed' the list with\n",
    "#  some predefined values if you like.\n",
    "names = []\n",
    "\n",
    "# Set new_name to something other than 'quit'.\n",
    "new_name = ''\n",
    "\n",
    "# Start a loop that will run until the user enters 'quit'.\n",
    "while new_name != 'quit':\n",
    "    # Ask the user for a name.\n",
    "    new_name = input(\"Please tell me someone I should know, or enter 'quit': \")\n",
    "\n",
    "    # Add the new name to our list.\n",
    "    if new_name != 'quit':\n",
    "        names.append(new_name)\n",
    "\n",
    "# Show that the name has been added to the list.\n",
    "print(names)"
   ]
  },
  {
   "cell_type": "markdown",
   "metadata": {},
   "source": [
    "This is pretty cool! We now have a way to accept input from users while our programs run, and we have a way to let our programs  run until our users are finished working."
   ]
  },
  {
   "cell_type": "markdown",
   "metadata": {},
   "source": [
    "Using while loops to make menus\n",
    "===\n",
    "You now have enough Python under your belt to offer users a set of choices, and then respond to those choices until they choose to quit. Let's look at a simple example, and then analyze the code:"
   ]
  },
  {
   "cell_type": "code",
   "execution_count": 33,
   "metadata": {
    "collapsed": false,
    "jupyter": {
     "outputs_hidden": false
    }
   },
   "outputs": [
    {
     "name": "stdout",
     "output_type": "stream",
     "text": [
      "\n",
      "Welcome to the nature center. What would you like to do?\n",
      "\n",
      "[1] Enter 1 to take a bicycle ride.\n",
      "[2] Enter 2 to go for a run.\n",
      "[3] Enter 3 to climb a mountain.\n",
      "[q] Enter q to quit.\n",
      "\n",
      "What would you like to do? 1\n",
      "\n",
      "Here's a bicycle. Have fun!\n",
      "\n",
      "\n",
      "[1] Enter 1 to take a bicycle ride.\n",
      "[2] Enter 2 to go for a run.\n",
      "[3] Enter 3 to climb a mountain.\n",
      "[q] Enter q to quit.\n",
      "\n",
      "What would you like to do? 3\n",
      "\n",
      "Here's a map. Can you leave a trip plan for us?\n",
      "\n",
      "\n",
      "[1] Enter 1 to take a bicycle ride.\n",
      "[2] Enter 2 to go for a run.\n",
      "[3] Enter 3 to climb a mountain.\n",
      "[q] Enter q to quit.\n",
      "\n",
      "What would you like to do? q\n",
      "\n",
      "Thanks for playing. See you later.\n",
      "\n",
      "Thanks again, bye now.\n"
     ]
    }
   ],
   "source": [
    "# Give the user some context.\n",
    "print(\"\\nWelcome to the nature center. What would you like to do?\")\n",
    "\n",
    "# Set an initial value for choice other than the value for 'quit'.\n",
    "choice = ''\n",
    "\n",
    "# Start a loop that runs until the user enters the value for 'quit'.\n",
    "while choice != 'q':\n",
    "    # Give all the choices in a series of print statements.\n",
    "    print(\"\\n[1] Enter 1 to take a bicycle ride.\")\n",
    "    print(\"[2] Enter 2 to go for a run.\")\n",
    "    print(\"[3] Enter 3 to climb a mountain.\")\n",
    "    print(\"[q] Enter q to quit.\")\n",
    "    \n",
    "    # Ask for the user's choice.\n",
    "    choice = input(\"\\nWhat would you like to do? \")\n",
    "    \n",
    "    # Respond to the user's choice.\n",
    "    if choice == '1':\n",
    "        print(\"\\nHere's a bicycle. Have fun!\\n\")\n",
    "    elif choice == '2':\n",
    "        print(\"\\nHere are some running shoes. Run fast!\\n\")\n",
    "    elif choice == '3':\n",
    "        print(\"\\nHere's a map. Can you leave a trip plan for us?\\n\")\n",
    "    elif choice == 'q':\n",
    "        print(\"\\nThanks for playing. See you later.\\n\")\n",
    "    else:\n",
    "        print(\"\\nI don't understand that choice, please try again.\\n\")\n",
    "        \n",
    "# Print a message that we are all finished.\n",
    "print(\"Thanks again, bye now.\")"
   ]
  },
  {
   "cell_type": "markdown",
   "metadata": {},
   "source": [
    "Our programs are getting rich enough now, that we could do many different things with them. Let's clean this up in one really useful way. There are three main choices here, so let's define a function for each of those items. This way, our menu code remains really simple even as we add more complicated code to the actions of riding a bicycle, going for a run, or climbing a mountain."
   ]
  },
  {
   "cell_type": "code",
   "execution_count": 34,
   "metadata": {
    "collapsed": false,
    "jupyter": {
     "outputs_hidden": false
    }
   },
   "outputs": [
    {
     "name": "stdout",
     "output_type": "stream",
     "text": [
      "\n",
      "Welcome to the nature center. What would you like to do?\n",
      "\n",
      "[1] Enter 1 to take a bicycle ride.\n",
      "[2] Enter 2 to go for a run.\n",
      "[3] Enter 3 to climb a mountain.\n",
      "[q] Enter q to quit.\n",
      "\n",
      "What would you like to do? 1\n",
      "\n",
      "Here's a bicycle. Have fun!\n",
      "\n",
      "\n",
      "[1] Enter 1 to take a bicycle ride.\n",
      "[2] Enter 2 to go for a run.\n",
      "[3] Enter 3 to climb a mountain.\n",
      "[q] Enter q to quit.\n",
      "\n",
      "What would you like to do? 3\n",
      "\n",
      "Here's a map. Can you leave a trip plan for us?\n",
      "\n",
      "\n",
      "[1] Enter 1 to take a bicycle ride.\n",
      "[2] Enter 2 to go for a run.\n",
      "[3] Enter 3 to climb a mountain.\n",
      "[q] Enter q to quit.\n",
      "\n",
      "What would you like to do? q\n",
      "\n",
      "Thanks for playing. See you later.\n",
      "\n",
      "Thanks again, bye now.\n"
     ]
    }
   ],
   "source": [
    "###highlight=[2,3,4,5,6,7,8,9,10,30,31,32,33,34,35]\n",
    "# Define the actions for each choice we want to offer.\n",
    "def ride_bicycle():\n",
    "    print(\"\\nHere's a bicycle. Have fun!\\n\")\n",
    "    \n",
    "def go_running():\n",
    "    print(\"\\nHere are some running shoes. Run fast!\\n\")\n",
    "    \n",
    "def climb_mountain():\n",
    "    print(\"\\nHere's a map. Can you leave a trip plan for us?\\n\")\n",
    "\n",
    "# Give the user some context.\n",
    "print(\"\\nWelcome to the nature center. What would you like to do?\")\n",
    "\n",
    "# Set an initial value for choice other than the value for 'quit'.\n",
    "choice = ''\n",
    "\n",
    "# Start a loop that runs until the user enters the value for 'quit'.\n",
    "while choice != 'q':\n",
    "    # Give all the choices in a series of print statements.\n",
    "    print(\"\\n[1] Enter 1 to take a bicycle ride.\")\n",
    "    print(\"[2] Enter 2 to go for a run.\")\n",
    "    print(\"[3] Enter 3 to climb a mountain.\")\n",
    "    print(\"[q] Enter q to quit.\")\n",
    "    \n",
    "    # Ask for the user's choice.\n",
    "    choice = input(\"\\nWhat would you like to do? \")\n",
    "    \n",
    "    # Respond to the user's choice.\n",
    "    if choice == '1':\n",
    "        ride_bicycle()\n",
    "    elif choice == '2':\n",
    "        go_running()\n",
    "    elif choice == '3':\n",
    "        climb_mountain()\n",
    "    elif choice == 'q':\n",
    "        print(\"\\nThanks for playing. See you later.\\n\")\n",
    "    else:\n",
    "        print(\"\\nI don't understand that choice, please try again.\\n\")\n",
    "        \n",
    "# Print a message that we are all finished.\n",
    "print(\"Thanks again, bye now.\")"
   ]
  },
  {
   "cell_type": "markdown",
   "metadata": {},
   "source": [
    "This is much cleaner code, and it gives us space to separate the details of taking an action from the act of choosing that action."
   ]
  },
  {
   "cell_type": "markdown",
   "metadata": {},
   "source": [
    "[top](#)"
   ]
  },
  {
   "cell_type": "markdown",
   "metadata": {},
   "source": [
    "Using while loops to process items in a list\n",
    "===\n",
    "In the section on Lists, you saw that we can `pop()` items from a list. You can use a while list to pop items one at a time from one list, and work with them in whatever way you need. Let's look at an example where we process a list of unconfirmed users."
   ]
  },
  {
   "cell_type": "code",
   "execution_count": 21,
   "metadata": {
    "collapsed": false,
    "jupyter": {
     "outputs_hidden": false
    }
   },
   "outputs": [
    {
     "name": "stdout",
     "output_type": "stream",
     "text": [
      "Confirming user Daria...confirmed!\n",
      "Confirming user Clarence...confirmed!\n",
      "Confirming user Billy...confirmed!\n",
      "Confirming user Ada...confirmed!\n",
      "\n",
      "Unconfirmed users:\n",
      "\n",
      "Confirmed users:\n",
      "- Daria\n",
      "- Clarence\n",
      "- Billy\n",
      "- Ada\n"
     ]
    }
   ],
   "source": [
    "# Start with a list of unconfirmed users, and an empty list of confirmed users.\n",
    "unconfirmed_users = ['ada', 'billy', 'clarence', 'daria']\n",
    "confirmed_users = []\n",
    "\n",
    "# Work through the list, and confirm each user.\n",
    "while len(unconfirmed_users) > 0:\n",
    "    \n",
    "    # Get the latest unconfirmed user, and process them.\n",
    "    current_user = unconfirmed_users.pop()\n",
    "    print(\"Confirming user %s...confirmed!\" % current_user.title())\n",
    "    \n",
    "    # Move the current user to the list of confirmed users.\n",
    "    confirmed_users.append(current_user)\n",
    "    \n",
    "# Prove that we have finished confirming all users.\n",
    "print(\"\\nUnconfirmed users:\")\n",
    "for user in unconfirmed_users:\n",
    "    print('- ' + user.title())\n",
    "    \n",
    "print(\"\\nConfirmed users:\")\n",
    "for user in confirmed_users:\n",
    "    print('- ' + user.title())"
   ]
  },
  {
   "cell_type": "markdown",
   "metadata": {},
   "source": [
    "This works, but let's make one small improvement. The current program always works with the most recently added user. If users are joining faster than we can confirm them, we will leave some users behind. If we want to work on a 'first come, first served' model, or a 'first in first out' model, we can pop the first item in the list each time."
   ]
  },
  {
   "cell_type": "code",
   "execution_count": 22,
   "metadata": {
    "collapsed": false,
    "jupyter": {
     "outputs_hidden": false
    }
   },
   "outputs": [
    {
     "name": "stdout",
     "output_type": "stream",
     "text": [
      "Confirming user Ada...confirmed!\n",
      "Confirming user Billy...confirmed!\n",
      "Confirming user Clarence...confirmed!\n",
      "Confirming user Daria...confirmed!\n",
      "\n",
      "Unconfirmed users:\n",
      "\n",
      "Confirmed users:\n",
      "- Ada\n",
      "- Billy\n",
      "- Clarence\n",
      "- Daria\n"
     ]
    }
   ],
   "source": [
    "###highlight=[10]\n",
    "# Start with a list of unconfirmed users, and an empty list of confirmed users.\n",
    "unconfirmed_users = ['ada', 'billy', 'clarence', 'daria']\n",
    "confirmed_users = []\n",
    "\n",
    "# Work through the list, and confirm each user.\n",
    "while len(unconfirmed_users) > 0:\n",
    "    \n",
    "    # Get the latest unconfirmed user, and process them.\n",
    "    current_user = unconfirmed_users.pop(0)\n",
    "    print(\"Confirming user %s...confirmed!\" % current_user.title())\n",
    "    \n",
    "    # Move the current user to the list of confirmed users.\n",
    "    confirmed_users.append(current_user)\n",
    "    \n",
    "# Prove that we have finished confirming all users.\n",
    "print(\"\\nUnconfirmed users:\")\n",
    "for user in unconfirmed_users:\n",
    "    print('- ' + user.title())\n",
    "    \n",
    "print(\"\\nConfirmed users:\")\n",
    "for user in confirmed_users:\n",
    "    print('- ' + user.title())"
   ]
  },
  {
   "cell_type": "markdown",
   "metadata": {},
   "source": [
    "This is a little nicer, because we are sure to get to everyone, even when our program is running under a heavy load. We also preserve the order of people as they join our project. Notice that this all came about by adding *one character* to our program!"
   ]
  },
  {
   "cell_type": "markdown",
   "metadata": {},
   "source": [
    "[top](#)"
   ]
  },
  {
   "cell_type": "markdown",
   "metadata": {},
   "source": [
    "Accidental Infinite loops\n",
    "===\n",
    "Sometimes we want a while loop to run until a defined action is completed, such as emptying out a list. Sometimes we want a loop to run for an unknown period of time, for example when we are allowing users to give as much input as they want. What we rarely want, however, is a true 'runaway' infinite loop.\n",
    "\n",
    "Take a look at the following example. Can you pick out why this loop will never stop?"
   ]
  },
  {
   "cell_type": "code",
   "execution_count": null,
   "metadata": {
    "collapsed": false,
    "jupyter": {
     "outputs_hidden": false
    }
   },
   "outputs": [],
   "source": [
    "current_number = 1\n",
    "\n",
    "# Count up to 5, printing the number each time.\n",
    "while current_number <= 5:\n",
    "    print(current_number)"
   ]
  },
  {
   "cell_type": "code",
   "execution_count": null,
   "metadata": {
    "collapsed": false,
    "jupyter": {
     "outputs_hidden": false
    }
   },
   "outputs": [],
   "source": [
    "1\n",
    "1\n",
    "1\n",
    "1\n",
    "1\n",
    "..."
   ]
  },
  {
   "cell_type": "markdown",
   "metadata": {},
   "source": [
    "I faked that output, because if I ran it the output would fill up the browser. You can try to run it on your computer, as long as you know how to interrupt runaway processes:\n",
    "\n",
    "- On most systems, Ctrl-C will interrupt the currently running program.\n",
    "- If you are using Geany, your output is displayed in a popup terminal window. You can either press Ctrl-C, or you can use your pointer to close the terminal window.\n",
    "\n",
    "The loop runs forever, because there is no way for the test condition to ever fail. The programmer probably meant to add a line that increments current_number by 1 each time through the loop:"
   ]
  },
  {
   "cell_type": "code",
   "execution_count": 23,
   "metadata": {
    "collapsed": false,
    "jupyter": {
     "outputs_hidden": false
    }
   },
   "outputs": [
    {
     "name": "stdout",
     "output_type": "stream",
     "text": [
      "1\n",
      "2\n",
      "3\n",
      "4\n",
      "5\n"
     ]
    }
   ],
   "source": [
    "###highlight=[7]\n",
    "current_number = 1\n",
    "\n",
    "# Count up to 5, printing the number each time.\n",
    "while current_number <= 5:\n",
    "    print(current_number)\n",
    "    current_number = current_number + 1"
   ]
  },
  {
   "cell_type": "markdown",
   "metadata": {},
   "source": [
    "You will certainly make some loops run infintely at some point. When you do, just interrupt the loop and figure out the logical error you made.\n",
    "\n",
    "Infinite loops will not be a real problem until you have users who run your programs on their machines. You won't want infinite loops then, because your users would have to shut down your program, and they would consider it buggy and unreliable. Learn to spot infinite loops, and make sure they don't pop up in your polished programs later on.\n",
    "\n",
    "Here is one more example of an accidental infinite loop:"
   ]
  },
  {
   "cell_type": "code",
   "execution_count": null,
   "metadata": {
    "collapsed": false,
    "jupyter": {
     "outputs_hidden": false
    }
   },
   "outputs": [],
   "source": [
    "current_number = 1\n",
    "\n",
    "# Count up to 5, printing the number each time.\n",
    "while current_number <= 5:\n",
    "    print(current_number)\n",
    "    current_number = current_number - 1"
   ]
  },
  {
   "cell_type": "code",
   "execution_count": null,
   "metadata": {
    "collapsed": false,
    "jupyter": {
     "outputs_hidden": false
    }
   },
   "outputs": [],
   "source": [
    "1\n",
    "0\n",
    "-1\n",
    "-2\n",
    "-3\n",
    "..."
   ]
  },
  {
   "cell_type": "markdown",
   "metadata": {},
   "source": [
    "In this example, we accidentally started counting down. The value of `current_number` will always be less than 5, so the loop will run forever."
   ]
  },
  {
   "cell_type": "markdown",
   "metadata": {},
   "source": [
    "## ``break`` and ``continue``: Fine-Tuning Your Loops\n",
    "There are two useful statements that can be used within loops to fine-tune how they are executed:\n",
    "\n",
    "- The ``break`` statement breaks-out of the loop entirely\n",
    "- The ``continue`` statement skips the remainder of the current loop, and goes to the next iteration\n",
    "\n",
    "These can be used in both ``for`` and ``while`` loops.\n",
    "\n",
    "Here is an example of using ``continue`` to print a string of odd numbers.\n",
    "In this case, the result could be accomplished just as well with an ``if-else`` statement, but sometimes the ``continue`` statement can be a more convenient way to express the idea you have in mind:"
   ]
  },
  {
   "cell_type": "code",
   "execution_count": null,
   "metadata": {},
   "outputs": [],
   "source": [
    "for n in range(20):\n",
    "    # if the remainder of n / 2 is 0, skip the rest of the loop\n",
    "    if n % 2 == 0:\n",
    "        continue\n",
    "    print(n, end=' ')"
   ]
  },
  {
   "cell_type": "markdown",
   "metadata": {},
   "source": [
    "Here is an example of a ``break`` statement used for a less trivial task.\n",
    "This loop will fill a list with all Fibonacci numbers up to a certain value:"
   ]
  },
  {
   "cell_type": "code",
   "execution_count": null,
   "metadata": {},
   "outputs": [],
   "source": [
    "a, b = 0, 1\n",
    "amax = 100\n",
    "L = []\n",
    "\n",
    "while True:\n",
    "    (a, b) = (b, a + b)\n",
    "    if a > amax:\n",
    "        break\n",
    "    L.append(a)\n",
    "\n",
    "print(L)"
   ]
  },
  {
   "cell_type": "markdown",
   "metadata": {},
   "source": [
    "Notice that we use a ``while True`` loop, which will loop forever unless we have a break statement!"
   ]
  },
  {
   "cell_type": "markdown",
   "metadata": {},
   "source": [
    "## Loops with an ``else`` Block\n",
    "One rarely used pattern available in Python is the ``else`` statement as part of a ``for`` or ``while`` loop.\n",
    "We discussed the ``else`` block earlier: it executes if all the ``if`` and ``elif`` statements evaluate to ``False``.\n",
    "The loop-``else`` is perhaps one of the more confusingly-named statements in Python; I prefer to think of it as a ``nobreak`` statement: that is, the ``else`` block is executed only if the loop ends naturally, without encountering a ``break`` statement.\n",
    "\n",
    "As an example of where this might be useful, consider the following (non-optimized) implementation of the *Sieve of Eratosthenes*, a well-known algorithm for finding prime numbers:"
   ]
  },
  {
   "cell_type": "code",
   "execution_count": null,
   "metadata": {},
   "outputs": [],
   "source": [
    "L = []\n",
    "nmax = 30\n",
    "\n",
    "for n in range(2, nmax):\n",
    "    for factor in L:\n",
    "        if n % factor == 0:\n",
    "            break\n",
    "    else: # no break\n",
    "        L.append(n)\n",
    "print(L)"
   ]
  }
 ],
 "metadata": {
  "kernelspec": {
   "display_name": "Python 3",
   "language": "python",
   "name": "python3"
  },
  "language_info": {
   "codemirror_mode": {
    "name": "ipython",
    "version": 3
   },
   "file_extension": ".py",
   "mimetype": "text/x-python",
   "name": "python",
   "nbconvert_exporter": "python",
   "pygments_lexer": "ipython3",
   "version": "3.7.3"
  }
 },
 "nbformat": 4,
 "nbformat_minor": 4
}
