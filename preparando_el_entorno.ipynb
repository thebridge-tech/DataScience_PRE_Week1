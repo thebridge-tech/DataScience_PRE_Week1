{
 "cells": [
  {
   "cell_type": "markdown",
   "metadata": {},
   "source": [
    "# Antes de empezar\n",
    "\n",
    "- Es imposible saber todo, con lo que es más importante saber buscar soluciones que recordarlas.\n",
    "- Leed siempre los mensajes (de error) y tratar de interpretarlos.\n",
    "- Seguramente alguien se ha encontrado antes con el mismo problema que tú. Stackoverflow, google y github son los lugares a los que ir a buscar\n",
    "- Copiar está bien, pero es importante utilizar esfuerzo en entender la solución. Si es posible intenta entenderla, y reproducirla sin copiar\n",
    "- Si no encuentras lo que buscas, pregunta.\n",
    "\n",
    "Sobre el profe:\n",
    "\n",
    "- No lo sabemos todo. \n",
    "- A veces daremos por supuesto cosas que no entendeis. Preguntad porque puede ser que:\n",
    "    - no seamos conscientes de que estamos utilizando algo que no conoceis.\n",
    "    - puede ser que haya algo que explicaremos más adelante.\n",
    "    \n",
    "- En cualquier caso ante la duda preguntad.\n",
    "\n"
   ]
  },
  {
   "cell_type": "code",
   "execution_count": null,
   "metadata": {},
   "outputs": [],
   "source": []
  },
  {
   "cell_type": "markdown",
   "metadata": {},
   "source": [
    "## Preparando el entorno - Workout"
   ]
  },
  {
   "cell_type": "markdown",
   "metadata": {},
   "source": [
    "Para proceder a la preparación del entorno vamos a utilizar Anaconda. Anaconda es un gestor de paquetes que instala librerias que son utilizadas en Daata Science. Además es un gestor de entornos. Además de utilizar Anaconda en algun momento utilizaremos pip, otro gestor de paquetes.\n",
    "Para la instalación vamos a utlizara las instrucciones que se encientran aquí. https://docs.anaconda.com/anaconda/install/\n",
    "\n"
   ]
  },
  {
   "cell_type": "code",
   "execution_count": 1,
   "metadata": {},
   "outputs": [
    {
     "data": {
      "text/html": [
       "\n",
       "        <iframe\n",
       "            width=\"600\"\n",
       "            height=\"300\"\n",
       "            src=\"./images/Anaconda-Starter-Guide.pdf\"\n",
       "            frameborder=\"0\"\n",
       "            allowfullscreen\n",
       "        ></iframe>\n",
       "        "
      ],
      "text/plain": [
       "<IPython.lib.display.IFrame at 0x10e688908>"
      ]
     },
     "execution_count": 1,
     "metadata": {},
     "output_type": "execute_result"
    }
   ],
   "source": [
    "from IPython.display import IFrame\n",
    "IFrame(\"./images/Anaconda-Starter-Guide.pdf\", width=600, height=300)"
   ]
  },
  {
   "cell_type": "markdown",
   "metadata": {},
   "source": [
    "## Comprobación del entorno\n",
    "\n",
    "\n",
    "En este ejercicio vamos a comprobar que tenemos correctamente configurado el entorno. \n",
    "\n",
    "- Comprobar la versión de python instalada.\n",
    "- Obtener la lista de paquetes instalada usando conda\n",
    "\n"
   ]
  },
  {
   "cell_type": "code",
   "execution_count": 8,
   "metadata": {},
   "outputs": [
    {
     "data": {
      "text/html": [
       "\n",
       "        <iframe\n",
       "            width=\"800\"\n",
       "            height=\"400\"\n",
       "            src=\"https://kapeli.com/cheat_sheets/Conda.docset/Contents/Resources/Documents/index\"\n",
       "            frameborder=\"0\"\n",
       "            allowfullscreen\n",
       "        ></iframe>\n",
       "        "
      ],
      "text/plain": [
       "<IPython.lib.display.IFrame at 0x10b6af438>"
      ]
     },
     "execution_count": 8,
     "metadata": {},
     "output_type": "execute_result"
    }
   ],
   "source": [
    "IFrame(src = \"https://kapeli.com/cheat_sheets/Conda.docset/Contents/Resources/Documents/index\", width=800, height=400)\n"
   ]
  },
  {
   "cell_type": "markdown",
   "metadata": {},
   "source": [
    "# Creacción de una cuenta en git Hub\n",
    "Crea una cuenta en github. La usaremos el jueves paa empezar a utilizar git. Enviame tu id de github para que podamos preparar el taller"
   ]
  },
  {
   "cell_type": "markdown",
   "metadata": {},
   "source": [
    "# Instalación de pip\n",
    "Anaconda es un gestor de paquetes muy interesante para Data Science, pero en algunas ocasiones no todos los paquetes se encuentran en los servidores de anaconda. En estos casos puede ser necesario utilizar pip, así que vamos a instalarlo.\n"
   ]
  },
  {
   "cell_type": "code",
   "execution_count": null,
   "metadata": {},
   "outputs": [],
   "source": []
  }
 ],
 "metadata": {
  "kernelspec": {
   "display_name": "Python 3",
   "language": "python",
   "name": "python3"
  },
  "language_info": {
   "codemirror_mode": {
    "name": "ipython",
    "version": 3
   },
   "file_extension": ".py",
   "mimetype": "text/x-python",
   "name": "python",
   "nbconvert_exporter": "python",
   "pygments_lexer": "ipython3",
   "version": "3.7.3"
  }
 },
 "nbformat": 4,
 "nbformat_minor": 4
}
